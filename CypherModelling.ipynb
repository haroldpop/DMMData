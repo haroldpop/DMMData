{
 "cells": [
  {
   "cell_type": "markdown",
   "id": "583baac1",
   "metadata": {},
   "source": [
    "### Importation of datas"
   ]
  },
  {
   "cell_type": "code",
   "execution_count": null,
   "id": "c6b956c8",
   "metadata": {},
   "outputs": [],
   "source": [
    "#importation of patient\n",
    "LOAD CSV WITH HEADERS FROM 'https://raw.githubusercontent.com/haroldpop/DMMData/main/patient.csv' as row\n",
    "merge (p:Patient {patientId: row.id, ssn: row.ssn, firstName: row.first_name, \n",
    "                  middleName: row.middle_name, lastName: row.last_name, email: row.email, \n",
    "                  phoneNumber: row.phone_number, state: row.state, zipcode: row.zipcode, \n",
    "                  gender: row.gender, dateOfBirth: row.date_of_birth, registeredAt: row.registered_at, \n",
    "                  username: row.username, password: row.password, lastLogin: row.last_login, updatedAt: row.updated_at})\n",
    "return count(p)"
   ]
  },
  {
   "cell_type": "code",
   "execution_count": null,
   "id": "8cf0b8c8",
   "metadata": {},
   "outputs": [],
   "source": [
    "#importation doctor\n",
    "load csv with headers from 'https://raw.githubusercontent.com/haroldpop/DMMData/main/doctor.csv' as row\n",
    "merge (d:Doctor {doctorId: row.id, firstName: row.first_name, middleName: coalesce(row.middle_name, \"unknown\"),\n",
    "                 lastName: row.last_name, email: row.email, hospitalId: row.hospital_id, \n",
    "                 expertFieldId: row.expert_field_id})\n",
    "return count(d)"
   ]
  },
  {
   "cell_type": "code",
   "execution_count": null,
   "id": "c6967011",
   "metadata": {},
   "outputs": [],
   "source": [
    "#importation hospital \n",
    "load csv with headers from 'https://raw.githubusercontent.com/haroldpop/DMMData/main/hospital.csv' as row\n",
    "merge (h: Hospital {hospitalId: row.id, name: row.name, phoneNumber: row.phone, address: row.address, state : row.state, zipcode: row.zipcode})\n",
    "return count(h)"
   ]
  },
  {
   "cell_type": "code",
   "execution_count": null,
   "id": "53668da4",
   "metadata": {},
   "outputs": [],
   "source": [
    "#bill\n",
    "load csv with headers from 'https://raw.githubusercontent.com/haroldpop/DMMData/main/bill.csv' as row\n",
    "merge (b: Bill {billId: row.id, createdAt: row.created_at, medicinePrice: row.medicine_price, patientId: row.patient_id})\n",
    "return count(b)"
   ]
  },
  {
   "cell_type": "code",
   "execution_count": null,
   "id": "e4f4dea9",
   "metadata": {},
   "outputs": [],
   "source": [
    "#expertfield \n",
    "load csv with headers from 'https://raw.githubusercontent.com/haroldpop/DMMData/main/expert_field.csv' as row\n",
    "merge (ef: ExpertField {expertFieldId: row.id, name: row.name, description: row.description})\n",
    "return count(ef)"
   ]
  },
  {
   "cell_type": "code",
   "execution_count": null,
   "id": "015d7650",
   "metadata": {},
   "outputs": [],
   "source": [
    "#medicine\n",
    "load csv with headers from 'https://raw.githubusercontent.com/haroldpop/DMMData/main/medicine.csv' as row\n",
    "merge (m: Medicine {medicineId: row.id, name: row.name, price: row.price ,description: row.description})\n",
    "return count(m)"
   ]
  },
  {
   "cell_type": "code",
   "execution_count": null,
   "id": "0e6a9531",
   "metadata": {},
   "outputs": [],
   "source": [
    "#prescription \n",
    "load csv with headers from 'https://raw.githubusercontent.com/haroldpop/DMMData/main/prescription.csv' as row\n",
    "merge (pr: Prescription {prescriptionId: row.id, appointmentId: row.appointment_id, \n",
    "                         message: row.message, treatmentDuration: row.treatment_duration, consultPrice: row.consult_price})\n",
    "return (count(pr))"
   ]
  },
  {
   "cell_type": "code",
   "execution_count": null,
   "id": "ac34e55f",
   "metadata": {},
   "outputs": [],
   "source": [
    "#workshift \n",
    "load csv with headers from 'https://raw.githubusercontent.com/haroldpop/DMMData/main/workshift.csv' as row\n",
    "merge (w: Workshift {worshiftId: row.id, day : row.day, startTime: row.start_time, endTime: row.end_time })\n",
    "return count(w)"
   ]
  },
  {
   "cell_type": "code",
   "execution_count": null,
   "id": "70a3d715",
   "metadata": {},
   "outputs": [],
   "source": [
    "#relation bill-medicine\n",
    "load csv with headers from 'https://raw.githubusercontent.com/haroldpop/DMMData/main/bill_item.csv' as row\n",
    "match (b: Bill {billId: row.bill_id})\n",
    "match (m: Medicine {medicineId: row.medicine_id})\n",
    "merge (b)-[:CONTAIN {itemId: row.id, qty: row.quantity}]->(m)\n",
    "return *"
   ]
  },
  {
   "cell_type": "code",
   "execution_count": null,
   "id": "8c10b308",
   "metadata": {},
   "outputs": [],
   "source": [
    "#relation doctor workshift\n",
    "load csv with headers from 'https://raw.githubusercontent.com/haroldpop/DMMData/main/work.csv' as row\n",
    "match (w: Workshift {worshiftId: row.workshift_id})\n",
    "match (d: Doctor {doctorId: row.doctor_id})\n",
    "merge (d)-[:WORK]->(w)\n",
    "return *"
   ]
  },
  {
   "cell_type": "code",
   "execution_count": null,
   "id": "a5cfa2c8",
   "metadata": {},
   "outputs": [],
   "source": [
    "#relation doctor-expertfield\n",
    "load csv with headers from 'https://raw.githubusercontent.com/haroldpop/DMMData/main/doctor.csv' as row\n",
    "match (d: Doctor {doctorId: row.id})\n",
    "match (ef: ExpertField {expertFieldId: row.expert_field_id})\n",
    "merge (d)-[:MASTER]->(ef)"
   ]
  },
  {
   "cell_type": "code",
   "execution_count": null,
   "id": "a1a8439f",
   "metadata": {},
   "outputs": [],
   "source": [
    "#relation doctor-hospital\n",
    "load csv with headers from 'https://raw.githubusercontent.com/haroldpop/DMMData/main/doctor.csv' as row\n",
    "match (d: Doctor {doctorId: row.id})\n",
    "match (h: Hospital {hospitalId: row.hospital_id})\n",
    "merge (d)-[:WORKSIN]->(h)"
   ]
  },
  {
   "cell_type": "code",
   "execution_count": null,
   "id": "98a5879e",
   "metadata": {},
   "outputs": [],
   "source": [
    "#relation patient doctor\n",
    "load csv with headers from 'https://raw.githubusercontent.com/haroldpop/DMMData/main/apm_pre.csv' as row\n",
    "match (p: Patient {patientId: row.patient_id})\n",
    "match (d: Doctor {doctorId: row.doctor_id})\n",
    "merge (p)-[:APPOINTMENT {time: row.appointment_time, type: row.meeting_type, duration: row.meeting_duration,\n",
    "                         status: row.status, createdAT: row.created_at, updatedAt: row.updated_at, \n",
    "                         ratingScore: row.rating_score, message: row.message, prescriptionMessage: row.prescription_message,\n",
    "                        prescriptionDuration: row.prescription_duration, \n",
    "                         prescriptionConsultation: row.prescription_consult_price\n",
    "                        }]->(d)"
   ]
  },
  {
   "cell_type": "code",
   "execution_count": null,
   "id": "8e602b32",
   "metadata": {},
   "outputs": [],
   "source": [
    "#patient-bill\n",
    "load csv with headers from 'https://raw.githubusercontent.com/haroldpop/DMMData/main/bill.csv' as row\n",
    "match (p: Patient {patientId: row.patient_id})\n",
    "match (b: Bill {billId: row.id})\n",
    "merge (p)-[:GOT {medicinePice: row.medicine_price, createdAt: row.created_at}]->(b)"
   ]
  },
  {
   "cell_type": "code",
   "execution_count": null,
   "id": "58f4a4e1",
   "metadata": {},
   "outputs": [],
   "source": [
    "#I don't understand how relate prescription since it is just a message, maybe we can include it directly when we create the\n",
    "#relationshsip between patient and doctor"
   ]
  }
 ],
 "metadata": {
  "kernelspec": {
   "display_name": "Python 3",
   "language": "python",
   "name": "python3"
  },
  "language_info": {
   "codemirror_mode": {
    "name": "ipython",
    "version": 3
   },
   "file_extension": ".py",
   "mimetype": "text/x-python",
   "name": "python",
   "nbconvert_exporter": "python",
   "pygments_lexer": "ipython3",
   "version": "3.8.8"
  }
 },
 "nbformat": 4,
 "nbformat_minor": 5
}
